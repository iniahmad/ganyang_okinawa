{
 "cells": [
  {
   "cell_type": "code",
   "execution_count": 10,
   "id": "1edfefee",
   "metadata": {},
   "outputs": [],
   "source": [
    "from pynq import Overlay\n",
    "from pynq import MMIO\n",
    "\n",
    "# Program bitstream to FPGA\n",
    "ol = Overlay('./fpga_vae.bit')\n",
    "\n",
    "# Access to memory map of the AXI GPIO\n",
    "ADDR_BASE = 0x43C00000\n",
    "ADDR_RANGE = 0x4000\n",
    "ol.top_vae_ip_0.mmio = MMIO(ADDR_BASE, ADDR_RANGE)"
   ]
  },
  {
   "cell_type": "code",
   "execution_count": 18,
   "id": "ee26433b",
   "metadata": {},
   "outputs": [
    {
     "data": {
      "text/plain": [
       "1"
      ]
     },
     "execution_count": 18,
     "metadata": {},
     "output_type": "execute_result"
    }
   ],
   "source": [
    "ol.top_vae_ip_0.write(80,0x1)\n",
    "ol.top_vae_ip_0.read(80)"
   ]
  },
  {
   "cell_type": "code",
   "execution_count": 25,
   "id": "fdbf18e1",
   "metadata": {},
   "outputs": [
    {
     "name": "stdout",
     "output_type": "stream",
     "text": [
      "Please enter a float value: 10\n",
      "Custom binary representation: 1342177280 <class 'int'>\n"
     ]
    }
   ],
   "source": [
    "def float_to_custom_binary(float_value):\n",
    "    # Determine the sign bit\n",
    "    sign_bit = 0 if float_value >= 0 else 1\n",
    "\n",
    "    # Get the absolute value of the float for further processing\n",
    "    abs_value = abs(float_value)\n",
    "\n",
    "    # Separate the integer and fractional parts\n",
    "    integer_part = int(abs_value)\n",
    "    fractional_part = abs_value - integer_part\n",
    "\n",
    "    # Convert the integer part to binary (4 bits)\n",
    "    integer_binary = format(integer_part & 0b1111, '04b')\n",
    "\n",
    "    # Convert the fractional part to binary (27 bits)\n",
    "    fractional_binary = ''\n",
    "    for _ in range(27):\n",
    "        fractional_part *= 2\n",
    "        bit = int(fractional_part)\n",
    "        fractional_binary += str(bit)\n",
    "        fractional_part -= bit\n",
    "\n",
    "    # Combine all parts into a single binary string\n",
    "    custom_binary = f\"{sign_bit}{integer_binary}{fractional_binary}\"\n",
    "    binary_value = int(custom_binary, 2)\n",
    "    binary_representation = bin(binary_value)\n",
    "\n",
    "    return binary_value\n",
    "\n",
    "# Input from the user\n",
    "user_input = input(\"Please enter a float value: \")\n",
    "\n",
    "try:\n",
    "    float_value = float(user_input)\n",
    "    custom_binary = float_to_custom_binary(float_value)\n",
    "    print(\"Custom binary representation:\", custom_binary, type(custom_binary))\n",
    "#     print(\"Custom binary representation:\", int(custom_binary,2), type(int(custom_binary,2)))\n",
    "# #     binary_representation = bin(binary_value)\n",
    "#     print(f\"Representasi biner dengan prefix: {bin(int(custom_binary,2))}\")\n",
    "except ValueError:\n",
    "    print(\"Invalid input. Please enter a valid float value.\")\n",
    "\n",
    "# sigmoid_opt_x = [-4.09263072, -1.81172374 , 1.81171603 , 4.09261913]\n",
    "# for s in sigmoid_opt_x:\n",
    "#     print(float_to_custom_binary(s))"
   ]
  },
  {
   "cell_type": "code",
   "execution_count": 40,
   "id": "9736f350",
   "metadata": {},
   "outputs": [
    {
     "name": "stdout",
     "output_type": "stream",
     "text": [
      "Please enter a binary value: 01\n",
      "Custom binary representation: 1.0000000000\n"
     ]
    }
   ],
   "source": [
    "def pad_binary_to_32bit(binary_str):\n",
    "    \"\"\"Pad binary string with leading zeros to make it 32 bits.\"\"\"\n",
    "    padded_binary = binary_str.zfill(32)  # Menambahkan leading zeros hingga panjangnya 32\n",
    "    return padded_binary\n",
    "\n",
    "def binary_to_float(binary_str):\n",
    "    \"\"\"Convert a 32-bit binary string to a float.\"\"\"\n",
    "    sign = int(binary_str[0])\n",
    "    integer_part = int(binary_str[1:5], 2)\n",
    "    fractional_part = binary_str[5:]\n",
    "    frac_value = 0.0\n",
    "    for i, bit in enumerate(fractional_part):\n",
    "        if bit == '1':\n",
    "            frac_value += 1 / (2 ** (i + 1))\n",
    "    float_value = integer_part + frac_value\n",
    "    if sign == 1:\n",
    "        float_value = -float_value\n",
    "    return float_value\n",
    "\n",
    "# Input from the user\n",
    "user_input = input(\"Please enter a binary value: \")\n",
    "\n",
    "float_data = binary_to_float(user_input)\n",
    "print(f\"Custom binary representation: {float_data:.10f}\")"
   ]
  },
  {
   "cell_type": "code",
   "execution_count": 43,
   "id": "5ebb57b9",
   "metadata": {},
   "outputs": [],
   "source": [
    "# input array\n",
    "ol.top_vae_ip_0.write(0,float_to_custom_binary(1))\n",
    "ol.top_vae_ip_0.write(4,float_to_custom_binary(1))\n",
    "ol.top_vae_ip_0.write(8,float_to_custom_binary(1))\n",
    "ol.top_vae_ip_0.write(12,float_to_custom_binary(1))\n",
    "ol.top_vae_ip_0.write(16,float_to_custom_binary(0))\n",
    "ol.top_vae_ip_0.write(20,float_to_custom_binary(1))\n",
    "ol.top_vae_ip_0.write(24,float_to_custom_binary(1))\n",
    "ol.top_vae_ip_0.write(28,float_to_custom_binary(1))\n",
    "ol.top_vae_ip_0.write(32,float_to_custom_binary(1))"
   ]
  },
  {
   "cell_type": "code",
   "execution_count": 44,
   "id": "eeb72f3c",
   "metadata": {},
   "outputs": [
    {
     "name": "stdout",
     "output_type": "stream",
     "text": [
      "35182933\n",
      "5298105\n",
      "29963945\n",
      "1297296\n",
      "136029387\n",
      "1140632\n",
      "45412147\n",
      "4340476\n",
      "43711578\n"
     ]
    }
   ],
   "source": [
    "# Output\n",
    "print(ol.top_vae_ip_0.read(36))  # Membaca dan mencetak alamat 36\n",
    "print(ol.top_vae_ip_0.read(40))  # Membaca dan mencetak alamat 40\n",
    "print(ol.top_vae_ip_0.read(44))  # Membaca dan mencetak alamat 44\n",
    "print(ol.top_vae_ip_0.read(48))  # Membaca dan mencetak alamat 48\n",
    "print(ol.top_vae_ip_0.read(52))  # Membaca dan mencetak alamat 52\n",
    "print(ol.top_vae_ip_0.read(56))  # Membaca dan mencetak alamat 56\n",
    "print(ol.top_vae_ip_0.read(60))  # Membaca dan mencetak alamat 60\n",
    "print(ol.top_vae_ip_0.read(64))  # Membaca dan mencetak alamat 64\n",
    "print(ol.top_vae_ip_0.read(68))  # Membaca dan mencetak alamat 68"
   ]
  },
  {
   "cell_type": "code",
   "execution_count": 45,
   "id": "879efd0f",
   "metadata": {},
   "outputs": [
    {
     "name": "stdout",
     "output_type": "stream",
     "text": [
      "0.26213327795267105\n",
      "0.03947395831346512\n",
      "0.22324878722429276\n",
      "0.009665608406066895\n",
      "1.0134979113936424\n",
      "0.00849837064743042\n",
      "0.33834686130285263\n",
      "0.03233906626701355\n",
      "0.3256766349077225\n"
     ]
    }
   ],
   "source": [
    "addresses = [36, 40, 44, 48, 52, 56, 60, 64, 68]\n",
    "for addr in addresses:\n",
    "    print(binary_to_float(pad_binary_to_32bit(bin(ol.top_vae_ip_0.read(addr))[2:])))"
   ]
  },
  {
   "cell_type": "code",
   "execution_count": 39,
   "id": "9382e34b",
   "metadata": {},
   "outputs": [
    {
     "name": "stdout",
     "output_type": "stream",
     "text": [
      "111010000011000000100010101\n",
      "10000000001000010000001000101111\n",
      "111001000011000110111101101\n",
      "10000000001010100100100011101100\n",
      "111111110101011000000010110\n",
      "10000000001011000101001111010010\n",
      "111011011101110011010000101\n",
      "10000000001000101000011010100000\n",
      "111011001110101011111111110\n"
     ]
    }
   ],
   "source": [
    "for addr in addresses:\n",
    "    print(bin(ol.top_vae_ip_0.read(addr))[2:])"
   ]
  }
 ],
 "metadata": {
  "kernelspec": {
   "display_name": "Python 3 (ipykernel)",
   "language": "python",
   "name": "python3"
  },
  "language_info": {
   "codemirror_mode": {
    "name": "ipython",
    "version": 3
   },
   "file_extension": ".py",
   "mimetype": "text/x-python",
   "name": "python",
   "nbconvert_exporter": "python",
   "pygments_lexer": "ipython3",
   "version": "3.10.4"
  }
 },
 "nbformat": 4,
 "nbformat_minor": 5
}
